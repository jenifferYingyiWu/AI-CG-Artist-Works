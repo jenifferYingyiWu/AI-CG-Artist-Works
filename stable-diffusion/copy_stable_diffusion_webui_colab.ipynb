{
 "cells": [
  {
   "cell_type": "code",
   "execution_count": null,
   "id": "initial_id",
   "metadata": {
    "collapsed": true
   },
   "outputs": [],
   "source": [
    "%cd /content\n",
    "\n",
    "%env TF_CPP_MIN_LOG_LEVEL=1\n"
   ]
  },
  {
   "cell_type": "code",
   "outputs": [],
   "source": [
    "!apt update && apt upgrade -y\n",
    "\n",
    "!apt -y update -qq\n",
    "!wget https://github.com/camenduru/gperftools/releases/download/v1.0/libtcmalloc_minimal.so.4 -O /content/libtcmalloc_minimal.so.4\n",
    "%env LD_PRELOAD=/content/libtcmalloc_minimal.so.4\n",
    "\n",
    "!apt -y install -qq aria2 libcairo2-dev pkg-config python3-dev\n"
   ],
   "metadata": {
    "collapsed": false
   },
   "id": "ece7c12a55e165fa"
  },
  {
   "cell_type": "code",
   "outputs": [],
   "source": [
    "!pip uninstall -y httpx httpcore\n",
    "!pip install httpx==0.23.0 httpcore==0.15.0\n",
    "!pip install gradio==3.1.4\n"
   ],
   "metadata": {
    "collapsed": false
   },
   "id": "1e22653cbe8a3148"
  },
  {
   "cell_type": "code",
   "outputs": [],
   "source": [
    "!pip install -q torch==2.0.1+cu118 torchvision==0.15.2+cu118 torchaudio==2.0.2+cu118 torchtext==0.15.2 torchdata==0.6.1 --extra-index-url https://download.pytorch.org/whl/cu118 -U\n",
    "!pip install -q xformers==0.0.20 triton==2.0.0 gradio_client==0.2.7 -U\n"
   ],
   "metadata": {
    "collapsed": false
   },
   "id": "c11258938140d7d4"
  },
  {
   "cell_type": "code",
   "outputs": [],
   "source": [
    "!nvcc --version\n",
    "\n",
    "!pip uninstall -y torch torchvision\n",
    "!pip install torch torchvision torchaudio --index-url https://download.pytorch.org/whl/cu118\n"
   ],
   "metadata": {
    "collapsed": false
   },
   "id": "50c0c85fd1f20c7d"
  },
  {
   "cell_type": "code",
   "outputs": [],
   "source": [
    "!git clone -b v2.4 https://github.com/camenduru/stable-diffusion-webui\n",
    "!git clone https://huggingface.co/embed/negative /content/stable-diffusion-webui/embeddings/negative\n",
    "!git clone https://huggingface.co/embed/lora /content/stable-diffusion-webui/models/Lora/positive\n",
    "!aria2c --console-log-level=error -c -x 16 -s 16 -k 1M https://huggingface.co/embed/upscale/resolve/main/4x-UltraSharp.pth -d /content/stable-diffusion-webui/models/ESRGAN -o 4x-UltraSharp.pth\n",
    "!wget https://raw.githubusercontent.com/camenduru/stable-diffusion-webui-scripts/main/run_n_times.py -O /content/stable-diffusion-webui/scripts/run_n_times.py\n",
    "!git clone -b v2.4 https://github.com/camenduru/deforum-for-automatic1111-webui /content/stable-diffusion-webui/extensions/deforum-for-automatic1111-webui\n",
    "!git clone -b v2.4 https://github.com/camenduru/stable-diffusion-webui-images-browser /content/stable-diffusion-webui/extensions/stable-diffusion-webui-images-browser\n",
    "!git clone -b v2.4 https://github.com/camenduru/stable-diffusion-webui-huggingface /content/stable-diffusion-webui/extensions/stable-diffusion-webui-huggingface\n",
    "!git clone -b v2.4 https://github.com/camenduru/sd-civitai-browser /content/stable-diffusion-webui/extensions/sd-civitai-browser\n",
    "!git clone -b v2.4 https://github.com/camenduru/sd-webui-additional-networks /content/stable-diffusion-webui/extensions/sd-webui-additional-networks\n",
    "!git clone -b v2.4 https://github.com/camenduru/sd-webui-tunnels /content/stable-diffusion-webui/extensions/sd-webui-tunnels\n",
    "!git clone -b v2.4 https://github.com/camenduru/batchlinks-webui /content/stable-diffusion-webui/extensions/batchlinks-webui\n",
    "!git clone -b v2.4 https://github.com/camenduru/stable-diffusion-webui-catppuccin /content/stable-diffusion-webui/extensions/stable-diffusion-webui-catppuccin\n",
    "!git clone -b v2.4 https://github.com/camenduru/stable-diffusion-webui-rembg /content/stable-diffusion-webui/extensions/stable-diffusion-webui-rembg\n",
    "!git clone -b v2.4 https://github.com/camenduru/stable-diffusion-webui-two-shot /content/stable-diffusion-webui/extensions/stable-diffusion-webui-two-shot\n",
    "!git clone -b v2.4 https://github.com/camenduru/sd-webui-aspect-ratio-helper /content/stable-diffusion-webui/extensions/sd-webui-aspect-ratio-helper\n",
    "!git clone -b v2.4 https://github.com/camenduru/asymmetric-tiling-sd-webui /content/stable-diffusion-webui/extensions/asymmetric-tiling-sd-webui\n",
    "%cd /content/stable-diffusion-webui\n",
    "!git reset --hard\n",
    "!git -C /content/stable-diffusion-webui/repositories/stable-diffusion-stability-ai reset --hard\n",
    "\n",
    "!aria2c --console-log-level=error -c -x 16 -s 16 -k 1M https://huggingface.co/ckpt/sd14/resolve/main/sd-v1-4.ckpt -d /content/stable-diffusion-webui/models/Stable-diffusion -o sd-v1-4.ckpt\n"
   ],
   "metadata": {
    "collapsed": false
   },
   "id": "2e6cfb082ddd376f"
  },
  {
   "cell_type": "code",
   "outputs": [],
   "source": [
    "!sed -i -e '''/from modules import launch_utils/a\\import os''' /content/stable-diffusion-webui/launch.py\n",
    "!sed -i -e '''/        prepare_environment()/a\\        os.system\\(f\\\"\"\"sed -i -e ''\\\"s/dict()))/dict())).cuda()/g\\\"'' /content/stable-diffusion-webui/repositories/stable-diffusion-stability-ai/ldm/util.py\"\"\")''' /content/stable-diffusion-webui/launch.py\n",
    "!sed -i -e 's/\\[\"sd_model_checkpoint\"\\]/\\[\"sd_model_checkpoint\",\"sd_vae\",\"CLIP_stop_at_last_layers\"\\]/g' /content/stable-diffusion-webui/modules/shared.py\n",
    "\n",
    "!python launch.py --listen --xformers --enable-insecure-extension-access --theme dark --gradio-queue --multiple\n"
   ],
   "metadata": {
    "collapsed": false
   },
   "id": "5bdbb0ed4268a5bd"
  }
 ],
 "metadata": {
  "kernelspec": {
   "display_name": "Python 3",
   "language": "python",
   "name": "python3"
  },
  "language_info": {
   "codemirror_mode": {
    "name": "ipython",
    "version": 2
   },
   "file_extension": ".py",
   "mimetype": "text/x-python",
   "name": "python",
   "nbconvert_exporter": "python",
   "pygments_lexer": "ipython2",
   "version": "2.7.6"
  }
 },
 "nbformat": 4,
 "nbformat_minor": 5
}
