{
 "cells": [
  {
   "cell_type": "code",
   "execution_count": 1,
   "id": "709ba3edcd3b2202",
   "metadata": {
    "collapsed": false,
    "execution": {
     "iopub.execute_input": "2024-05-30T08:27:06.862884Z",
     "iopub.status.busy": "2024-05-30T08:27:06.862503Z",
     "iopub.status.idle": "2024-05-30T08:28:13.735212Z",
     "shell.execute_reply": "2024-05-30T08:28:13.733726Z"
    }
   },
   "outputs": [
    {
     "name": "stdout",
     "output_type": "stream",
     "text": [
      "[Errno 2] No such file or directory: '/content'\n",
      "/Users/wuyingyi/Documents/Hello World/数字艺术/Jen GitHub/AI-digital-art-works/stable-diffusion\n",
      "env: TF_CPP_MIN_LOG_LEVEL=1\n",
      "The operation couldn’t be completed. Unable to locate a Java Runtime.\r\n",
      "Please visit http://www.java.com for information on installing Java.\r\n",
      "\r\n"
     ]
    },
    {
     "name": "stdout",
     "output_type": "stream",
     "text": [
      "The operation couldn’t be completed. Unable to locate a Java Runtime.\r\n",
      "Please visit http://www.java.com for information on installing Java.\r\n",
      "\r\n"
     ]
    },
    {
     "name": "stdout",
     "output_type": "stream",
     "text": [
      "zsh:1: command not found: wget\r\n"
     ]
    },
    {
     "name": "stdout",
     "output_type": "stream",
     "text": [
      "env: LD_PRELOAD=/content/libtcmalloc_minimal.so.4\n",
      "The operation couldn’t be completed. Unable to locate a Java Runtime.\r\n",
      "Please visit http://www.java.com for information on installing Java.\r\n",
      "\r\n"
     ]
    },
    {
     "name": "stdout",
     "output_type": "stream",
     "text": [
      "zsh:1: command not found: pip\r\n"
     ]
    },
    {
     "name": "stdout",
     "output_type": "stream",
     "text": [
      "zsh:1: command not found: pip\r\n"
     ]
    },
    {
     "name": "stdout",
     "output_type": "stream",
     "text": [
      "zsh:1: command not found: pip\r\n"
     ]
    },
    {
     "name": "stdout",
     "output_type": "stream",
     "text": [
      "zsh:1: command not found: pip\r\n"
     ]
    },
    {
     "name": "stdout",
     "output_type": "stream",
     "text": [
      "zsh:1: command not found: pip\r\n"
     ]
    },
    {
     "name": "stdout",
     "output_type": "stream",
     "text": [
      "zsh:1: command not found: nvcc\r\n"
     ]
    },
    {
     "name": "stdout",
     "output_type": "stream",
     "text": [
      "zsh:1: command not found: pip\r\n"
     ]
    },
    {
     "name": "stdout",
     "output_type": "stream",
     "text": [
      "zsh:1: command not found: pip\r\n"
     ]
    },
    {
     "name": "stdout",
     "output_type": "stream",
     "text": [
      "Cloning into 'stable-diffusion-webui'...\r\n"
     ]
    },
    {
     "name": "stdout",
     "output_type": "stream",
     "text": [
      "remote: Enumerating objects: 28649, done.\u001b[K\r\n",
      "Receiving objects:   0% (1/28649)\r"
     ]
    },
    {
     "name": "stdout",
     "output_type": "stream",
     "text": [
      "Receiving objects:   1% (287/28649)\r"
     ]
    },
    {
     "name": "stdout",
     "output_type": "stream",
     "text": [
      "Receiving objects:   2% (573/28649)\r"
     ]
    },
    {
     "name": "stdout",
     "output_type": "stream",
     "text": [
      "Receiving objects:   3% (860/28649), 228.00 KiB | 408.00 KiB/s\r"
     ]
    },
    {
     "name": "stdout",
     "output_type": "stream",
     "text": [
      "Receiving objects:   4% (1146/28649), 228.00 KiB | 408.00 KiB/s\r"
     ]
    },
    {
     "name": "stdout",
     "output_type": "stream",
     "text": [
      "Receiving objects:   5% (1433/28649), 228.00 KiB | 408.00 KiB/s\r"
     ]
    },
    {
     "name": "stdout",
     "output_type": "stream",
     "text": [
      "Receiving objects:   6% (1719/28649), 228.00 KiB | 408.00 KiB/s\r"
     ]
    },
    {
     "name": "stdout",
     "output_type": "stream",
     "text": [
      "Receiving objects:   6% (1894/28649), 636.00 KiB | 546.00 KiB/s\r"
     ]
    },
    {
     "name": "stdout",
     "output_type": "stream",
     "text": [
      "Receiving objects:   7% (2006/28649), 636.00 KiB | 546.00 KiB/s\r",
      "Receiving objects:   8% (2292/28649), 636.00 KiB | 546.00 KiB/s\r"
     ]
    },
    {
     "name": "stdout",
     "output_type": "stream",
     "text": [
      "Receiving objects:   9% (2579/28649), 636.00 KiB | 546.00 KiB/s\r"
     ]
    },
    {
     "name": "stdout",
     "output_type": "stream",
     "text": [
      "Receiving objects:  10% (2865/28649), 636.00 KiB | 546.00 KiB/s\r"
     ]
    },
    {
     "name": "stdout",
     "output_type": "stream",
     "text": [
      "Receiving objects:  11% (3152/28649), 1.01 MiB | 613.00 KiB/s  \r"
     ]
    },
    {
     "name": "stdout",
     "output_type": "stream",
     "text": [
      "Receiving objects:  12% (3438/28649), 1.01 MiB | 613.00 KiB/s\r"
     ]
    },
    {
     "name": "stdout",
     "output_type": "stream",
     "text": [
      "Receiving objects:  12% (3516/28649), 1.01 MiB | 613.00 KiB/s\r"
     ]
    },
    {
     "name": "stdout",
     "output_type": "stream",
     "text": [
      "Receiving objects:  13% (3725/28649), 1.26 MiB | 585.00 KiB/s\r"
     ]
    },
    {
     "name": "stdout",
     "output_type": "stream",
     "text": [
      "Receiving objects:  14% (4011/28649), 1.26 MiB | 585.00 KiB/s\r"
     ]
    },
    {
     "name": "stdout",
     "output_type": "stream",
     "text": [
      "Receiving objects:  15% (4298/28649), 1.40 MiB | 530.00 KiB/s\r"
     ]
    },
    {
     "name": "stdout",
     "output_type": "stream",
     "text": [
      "Receiving objects:  15% (4319/28649), 1.40 MiB | 530.00 KiB/s\r"
     ]
    },
    {
     "name": "stdout",
     "output_type": "stream",
     "text": [
      "Receiving objects:  16% (4584/28649), 1.55 MiB | 492.00 KiB/s\r"
     ]
    },
    {
     "name": "stdout",
     "output_type": "stream",
     "text": [
      "Receiving objects:  17% (4871/28649), 1.55 MiB | 492.00 KiB/s\r"
     ]
    },
    {
     "name": "stdout",
     "output_type": "stream",
     "text": [
      "Receiving objects:  18% (5157/28649), 1.71 MiB | 469.00 KiB/s\r"
     ]
    },
    {
     "name": "stdout",
     "output_type": "stream",
     "text": [
      "Receiving objects:  18% (5421/28649), 1.71 MiB | 469.00 KiB/s\r",
      "Receiving objects:  19% (5444/28649), 1.71 MiB | 469.00 KiB/s\r"
     ]
    },
    {
     "name": "stdout",
     "output_type": "stream",
     "text": [
      "Receiving objects:  20% (5730/28649), 1.85 MiB | 446.00 KiB/s\r"
     ]
    },
    {
     "name": "stdout",
     "output_type": "stream",
     "text": [
      "Receiving objects:  21% (6017/28649), 1.85 MiB | 446.00 KiB/s\r"
     ]
    },
    {
     "name": "stdout",
     "output_type": "stream",
     "text": [
      "Receiving objects:  22% (6303/28649), 2.00 MiB | 428.00 KiB/s\r"
     ]
    },
    {
     "name": "stdout",
     "output_type": "stream",
     "text": [
      "Receiving objects:  22% (6309/28649), 2.00 MiB | 428.00 KiB/s\r"
     ]
    },
    {
     "name": "stdout",
     "output_type": "stream",
     "text": [
      "Receiving objects:  22% (6572/28649), 2.22 MiB | 349.00 KiB/s\r"
     ]
    },
    {
     "name": "stdout",
     "output_type": "stream",
     "text": [
      "Receiving objects:  23% (6590/28649), 2.22 MiB | 349.00 KiB/s\r"
     ]
    },
    {
     "name": "stdout",
     "output_type": "stream",
     "text": [
      "Receiving objects:  23% (6624/28649), 2.49 MiB | 265.00 KiB/s\r"
     ]
    },
    {
     "name": "stdout",
     "output_type": "stream",
     "text": [
      "Receiving objects:  23% (6717/28649), 2.81 MiB | 270.00 KiB/s\r"
     ]
    },
    {
     "name": "stdout",
     "output_type": "stream",
     "text": [
      "Receiving objects:  23% (6792/28649), 3.11 MiB | 270.00 KiB/s\r"
     ]
    },
    {
     "name": "stdout",
     "output_type": "stream",
     "text": [
      "Receiving objects:  23% (6833/28649), 3.43 MiB | 282.00 KiB/s\r"
     ]
    },
    {
     "name": "stdout",
     "output_type": "stream",
     "text": [
      "Receiving objects:  23% (6833/28649), 3.71 MiB | 294.00 KiB/s\r"
     ]
    },
    {
     "name": "stdout",
     "output_type": "stream",
     "text": [
      "Receiving objects:  24% (6876/28649), 3.71 MiB | 294.00 KiB/s\r"
     ]
    },
    {
     "name": "stdout",
     "output_type": "stream",
     "text": [
      "Receiving objects:  24% (6977/28649), 3.82 MiB | 287.00 KiB/s\r"
     ]
    },
    {
     "name": "stdout",
     "output_type": "stream",
     "text": [
      "Receiving objects:  24% (7044/28649), 4.20 MiB | 264.00 KiB/s\r"
     ]
    },
    {
     "name": "stdout",
     "output_type": "stream",
     "text": [
      "Receiving objects:  24% (7045/28649), 4.33 MiB | 253.00 KiB/s\r"
     ]
    },
    {
     "name": "stdout",
     "output_type": "stream",
     "text": [
      "Receiving objects:  24% (7150/28649), 4.61 MiB | 246.00 KiB/s\r"
     ]
    },
    {
     "name": "stdout",
     "output_type": "stream",
     "text": [
      "Receiving objects:  25% (7163/28649), 4.61 MiB | 246.00 KiB/s\r"
     ]
    },
    {
     "name": "stdout",
     "output_type": "stream",
     "text": [
      "Receiving objects:  25% (7350/28649), 4.73 MiB | 237.00 KiB/s\r"
     ]
    },
    {
     "name": "stdout",
     "output_type": "stream",
     "text": [
      "Receiving objects:  26% (7449/28649), 4.86 MiB | 239.00 KiB/s\r"
     ]
    },
    {
     "name": "stdout",
     "output_type": "stream",
     "text": [
      "Receiving objects:  26% (7557/28649), 5.08 MiB | 238.00 KiB/s\r"
     ]
    },
    {
     "name": "stdout",
     "output_type": "stream",
     "text": [
      "Receiving objects:  27% (7736/28649), 5.20 MiB | 239.00 KiB/s\r"
     ]
    },
    {
     "name": "stdout",
     "output_type": "stream",
     "text": [
      "Receiving objects:  27% (7773/28649), 5.20 MiB | 239.00 KiB/s\r"
     ]
    },
    {
     "name": "stdout",
     "output_type": "stream",
     "text": [
      "Receiving objects:  27% (7954/28649), 5.40 MiB | 225.00 KiB/s\r"
     ]
    },
    {
     "name": "stdout",
     "output_type": "stream",
     "text": [
      "Receiving objects:  28% (8022/28649), 5.50 MiB | 215.00 KiB/s\r"
     ]
    },
    {
     "name": "stdout",
     "output_type": "stream",
     "text": [
      "Receiving objects:  28% (8024/28649), 5.65 MiB | 196.00 KiB/s\r"
     ]
    },
    {
     "name": "stdout",
     "output_type": "stream",
     "text": [
      "Receiving objects:  28% (8024/28649), 5.86 MiB | 185.00 KiB/s\r"
     ]
    },
    {
     "name": "stdout",
     "output_type": "stream",
     "text": [
      "Receiving objects:  28% (8025/28649), 6.01 MiB | 197.00 KiB/s\r"
     ]
    },
    {
     "name": "stdout",
     "output_type": "stream",
     "text": [
      "Receiving objects:  28% (8049/28649), 6.28 MiB | 208.00 KiB/s\r"
     ]
    },
    {
     "name": "stdout",
     "output_type": "stream",
     "text": [
      "Receiving objects:  28% (8243/28649), 6.39 MiB | 213.00 KiB/s\r"
     ]
    },
    {
     "name": "stdout",
     "output_type": "stream",
     "text": [
      "Receiving objects:  29% (8309/28649), 6.61 MiB | 221.00 KiB/s\r"
     ]
    },
    {
     "name": "stdout",
     "output_type": "stream",
     "text": [
      "Receiving objects:  29% (8349/28649), 6.61 MiB | 221.00 KiB/s\r"
     ]
    },
    {
     "name": "stdout",
     "output_type": "stream",
     "text": [
      "Receiving objects:  29% (8583/28649), 6.88 MiB | 238.00 KiB/s\r",
      "Receiving objects:  30% (8595/28649), 6.88 MiB | 238.00 KiB/s\r"
     ]
    },
    {
     "name": "stdout",
     "output_type": "stream",
     "text": [
      "Receiving objects:  30% (8825/28649), 7.21 MiB | 227.00 KiB/s\r"
     ]
    },
    {
     "name": "stdout",
     "output_type": "stream",
     "text": [
      "Receiving objects:  30% (8825/28649), 7.33 MiB | 201.00 KiB/s\r"
     ]
    },
    {
     "name": "stdout",
     "output_type": "stream",
     "text": [
      "Receiving objects:  30% (8825/28649), 7.51 MiB | 191.00 KiB/s\r"
     ]
    },
    {
     "name": "stdout",
     "output_type": "stream",
     "text": [
      "Receiving objects:  30% (8825/28649), 7.60 MiB | 176.00 KiB/s\r"
     ]
    },
    {
     "name": "stdout",
     "output_type": "stream",
     "text": [
      "Receiving objects:  31% (8882/28649), 7.60 MiB | 176.00 KiB/s\r"
     ]
    },
    {
     "name": "stdout",
     "output_type": "stream",
     "text": [
      "Receiving objects:  31% (9014/28649), 7.71 MiB | 175.00 KiB/s\r"
     ]
    },
    {
     "name": "stdout",
     "output_type": "stream",
     "text": [
      "Receiving objects:  32% (9168/28649), 7.94 MiB | 176.00 KiB/s\r"
     ]
    },
    {
     "name": "stdout",
     "output_type": "stream",
     "text": [
      "Receiving objects:  32% (9205/28649), 7.94 MiB | 176.00 KiB/s\r"
     ]
    },
    {
     "name": "stdout",
     "output_type": "stream",
     "text": [
      "Receiving objects:  32% (9404/28649), 8.16 MiB | 181.00 KiB/s\r"
     ]
    },
    {
     "name": "stdout",
     "output_type": "stream",
     "text": [
      "Receiving objects:  33% (9455/28649), 8.16 MiB | 181.00 KiB/s\r"
     ]
    },
    {
     "name": "stdout",
     "output_type": "stream",
     "text": [
      "Receiving objects:  33% (9602/28649), 8.35 MiB | 189.00 KiB/s\r"
     ]
    },
    {
     "name": "stdout",
     "output_type": "stream",
     "text": [
      "Receiving objects:  34% (9741/28649), 8.45 MiB | 191.00 KiB/s\r"
     ]
    },
    {
     "name": "stdout",
     "output_type": "stream",
     "text": [
      "Receiving objects:  34% (9796/28649), 8.54 MiB | 191.00 KiB/s\r"
     ]
    },
    {
     "name": "stdout",
     "output_type": "stream",
     "text": [
      "Receiving objects:  35% (10028/28649), 8.64 MiB | 190.00 KiB/s\r"
     ]
    },
    {
     "name": "stdout",
     "output_type": "stream",
     "text": [
      "Receiving objects:  35% (10182/28649), 8.71 MiB | 176.00 KiB/s\r",
      "Receiving objects:  36% (10314/28649), 8.71 MiB | 176.00 KiB/s\r"
     ]
    },
    {
     "name": "stdout",
     "output_type": "stream",
     "text": [
      "Receiving objects:  36% (10569/28649), 8.85 MiB | 181.00 KiB/s\r"
     ]
    },
    {
     "name": "stdout",
     "output_type": "stream",
     "text": [
      "Receiving objects:  37% (10601/28649), 8.85 MiB | 181.00 KiB/s\r"
     ]
    },
    {
     "name": "stdout",
     "output_type": "stream",
     "text": [
      "Receiving objects:  37% (10799/28649), 9.01 MiB | 173.00 KiB/s\r"
     ]
    },
    {
     "name": "stdout",
     "output_type": "stream",
     "text": [
      "Receiving objects:  37% (10802/28649), 9.39 MiB | 193.00 KiB/s\r"
     ]
    },
    {
     "name": "stdout",
     "output_type": "stream",
     "text": [
      "Receiving objects:  37% (10802/28649), 9.61 MiB | 201.00 KiB/s\r"
     ]
    },
    {
     "name": "stdout",
     "output_type": "stream",
     "text": [
      "Receiving objects:  37% (10803/28649), 9.75 MiB | 223.00 KiB/s\r"
     ]
    },
    {
     "name": "stdout",
     "output_type": "stream",
     "text": [
      "Receiving objects:  37% (10803/28649), 10.08 MiB | 247.00 KiB/s\r"
     ]
    },
    {
     "name": "stdout",
     "output_type": "stream",
     "text": [
      "Receiving objects:  37% (10803/28649), 10.45 MiB | 285.00 KiB/s\r"
     ]
    },
    {
     "name": "stdout",
     "output_type": "stream",
     "text": [
      "Receiving objects:  37% (10804/28649), 10.82 MiB | 313.00 KiB/s\r"
     ]
    },
    {
     "name": "stdout",
     "output_type": "stream",
     "text": [
      "Receiving objects:  37% (10804/28649), 11.17 MiB | 341.00 KiB/s\r"
     ]
    },
    {
     "name": "stdout",
     "output_type": "stream",
     "text": [
      "Receiving objects:  37% (10804/28649), 11.55 MiB | 361.00 KiB/s\r"
     ]
    },
    {
     "name": "stdout",
     "output_type": "stream",
     "text": [
      "Receiving objects:  37% (10805/28649), 11.77 MiB | 372.00 KiB/s\r"
     ]
    },
    {
     "name": "stdout",
     "output_type": "stream",
     "text": [
      "Receiving objects:  37% (10805/28649), 12.39 MiB | 388.00 KiB/s\r"
     ]
    },
    {
     "name": "stdout",
     "output_type": "stream",
     "text": [
      "Receiving objects:  37% (10806/28649), 12.76 MiB | 388.00 KiB/s\r"
     ]
    },
    {
     "name": "stdout",
     "output_type": "stream",
     "text": [
      "Receiving objects:  37% (10807/28649), 13.19 MiB | 407.00 KiB/s\r"
     ]
    },
    {
     "name": "stdout",
     "output_type": "stream",
     "text": [
      "Receiving objects:  37% (10807/28649), 13.70 MiB | 428.00 KiB/s\r"
     ]
    },
    {
     "name": "stdout",
     "output_type": "stream",
     "text": [
      "Receiving objects:  37% (10807/28649), 14.27 MiB | 451.00 KiB/s\r"
     ]
    },
    {
     "name": "stdout",
     "output_type": "stream",
     "text": [
      "Receiving objects:  37% (10807/28649), 14.79 MiB | 479.00 KiB/s\r"
     ]
    },
    {
     "name": "stdout",
     "output_type": "stream",
     "text": [
      "Receiving objects:  37% (10808/28649), 15.00 MiB | 490.00 KiB/s\r"
     ]
    },
    {
     "name": "stdout",
     "output_type": "stream",
     "text": [
      "Receiving objects:  37% (10808/28649), 15.49 MiB | 503.00 KiB/s\r"
     ]
    },
    {
     "name": "stdout",
     "output_type": "stream",
     "text": [
      "Receiving objects:  37% (10808/28649), 15.97 MiB | 497.00 KiB/s\r"
     ]
    },
    {
     "name": "stdout",
     "output_type": "stream",
     "text": [
      "Receiving objects:  37% (10830/28649), 16.25 MiB | 496.00 KiB/s\r"
     ]
    },
    {
     "name": "stdout",
     "output_type": "stream",
     "text": [
      "Receiving objects:  38% (10887/28649), 16.46 MiB | 479.00 KiB/s\r"
     ]
    },
    {
     "name": "stdout",
     "output_type": "stream",
     "text": [
      "Receiving objects:  39% (11174/28649), 16.65 MiB | 479.00 KiB/s\r"
     ]
    },
    {
     "name": "stdout",
     "output_type": "stream",
     "text": [
      "Receiving objects:  39% (11266/28649), 16.65 MiB | 479.00 KiB/s\r"
     ]
    },
    {
     "name": "stdout",
     "output_type": "stream",
     "text": [
      "Receiving objects:  40% (11460/28649), 16.86 MiB | 460.00 KiB/s\r"
     ]
    },
    {
     "name": "stdout",
     "output_type": "stream",
     "text": [
      "Receiving objects:  41% (11747/28649), 17.09 MiB | 463.00 KiB/s\r"
     ]
    },
    {
     "name": "stdout",
     "output_type": "stream",
     "text": [
      "Receiving objects:  41% (11889/28649), 17.09 MiB | 463.00 KiB/s\r"
     ]
    },
    {
     "name": "stdout",
     "output_type": "stream",
     "text": [
      "Receiving objects:  42% (12033/28649), 17.33 MiB | 468.00 KiB/s\r"
     ]
    },
    {
     "name": "stdout",
     "output_type": "stream",
     "text": [
      "Receiving objects:  43% (12320/28649), 17.33 MiB | 468.00 KiB/s\r"
     ]
    },
    {
     "name": "stdout",
     "output_type": "stream",
     "text": [
      "Receiving objects:  44% (12606/28649), 17.62 MiB | 473.00 KiB/s\r"
     ]
    },
    {
     "name": "stdout",
     "output_type": "stream",
     "text": [
      "Receiving objects:  45% (12893/28649), 17.62 MiB | 473.00 KiB/s\r"
     ]
    },
    {
     "name": "stdout",
     "output_type": "stream",
     "text": [
      "Receiving objects:  46% (13179/28649), 17.62 MiB | 473.00 KiB/s\r"
     ]
    },
    {
     "name": "stdout",
     "output_type": "stream",
     "text": [
      "Receiving objects:  46% (13197/28649), 17.62 MiB | 473.00 KiB/s\r"
     ]
    },
    {
     "name": "stdout",
     "output_type": "stream",
     "text": [
      "error: RPC failed; curl 92 HTTP/2 stream 5 was not closed cleanly: CANCEL (err 8)\r\n",
      "error: 2159 bytes of body are still expected\r\n",
      "fetch-pack: unexpected disconnect while reading sideband packet\r\n",
      "fatal: early EOF\r\n",
      "fatal: fetch-pack: invalid index-pack output\r\n"
     ]
    },
    {
     "name": "stdout",
     "output_type": "stream",
     "text": [
      "fatal: could not create leading directories of '/content/stable-diffusion-webui/embeddings/negative': Read-only file system\r\n"
     ]
    },
    {
     "name": "stdout",
     "output_type": "stream",
     "text": [
      "fatal: could not create leading directories of '/content/stable-diffusion-webui/models/Lora/positive': Read-only file system\r\n"
     ]
    },
    {
     "name": "stdout",
     "output_type": "stream",
     "text": [
      "zsh:1: command not found: aria2c\r\n"
     ]
    },
    {
     "name": "stdout",
     "output_type": "stream",
     "text": [
      "zsh:1: command not found: wget\r\n"
     ]
    },
    {
     "name": "stdout",
     "output_type": "stream",
     "text": [
      "fatal: could not create leading directories of '/content/stable-diffusion-webui/extensions/deforum-for-automatic1111-webui': Read-only file system\r\n"
     ]
    },
    {
     "name": "stdout",
     "output_type": "stream",
     "text": [
      "fatal: could not create leading directories of '/content/stable-diffusion-webui/extensions/stable-diffusion-webui-images-browser': Read-only file system\r\n"
     ]
    },
    {
     "name": "stdout",
     "output_type": "stream",
     "text": [
      "fatal: could not create leading directories of '/content/stable-diffusion-webui/extensions/stable-diffusion-webui-huggingface': Read-only file system\r\n"
     ]
    },
    {
     "name": "stdout",
     "output_type": "stream",
     "text": [
      "fatal: could not create leading directories of '/content/stable-diffusion-webui/extensions/sd-civitai-browser': Read-only file system\r\n"
     ]
    },
    {
     "name": "stdout",
     "output_type": "stream",
     "text": [
      "fatal: could not create leading directories of '/content/stable-diffusion-webui/extensions/sd-webui-additional-networks': Read-only file system\r\n"
     ]
    },
    {
     "name": "stdout",
     "output_type": "stream",
     "text": [
      "fatal: could not create leading directories of '/content/stable-diffusion-webui/extensions/sd-webui-tunnels': Read-only file system\r\n"
     ]
    },
    {
     "name": "stdout",
     "output_type": "stream",
     "text": [
      "fatal: could not create leading directories of '/content/stable-diffusion-webui/extensions/batchlinks-webui': Read-only file system\r\n"
     ]
    },
    {
     "name": "stdout",
     "output_type": "stream",
     "text": [
      "fatal: could not create leading directories of '/content/stable-diffusion-webui/extensions/stable-diffusion-webui-catppuccin': Read-only file system\r\n"
     ]
    },
    {
     "name": "stdout",
     "output_type": "stream",
     "text": [
      "fatal: could not create leading directories of '/content/stable-diffusion-webui/extensions/stable-diffusion-webui-rembg': Read-only file system\r\n"
     ]
    },
    {
     "name": "stdout",
     "output_type": "stream",
     "text": [
      "fatal: could not create leading directories of '/content/stable-diffusion-webui/extensions/stable-diffusion-webui-two-shot': Read-only file system\r\n"
     ]
    },
    {
     "name": "stdout",
     "output_type": "stream",
     "text": [
      "fatal: could not create leading directories of '/content/stable-diffusion-webui/extensions/sd-webui-aspect-ratio-helper': Read-only file system\r\n"
     ]
    },
    {
     "name": "stdout",
     "output_type": "stream",
     "text": [
      "fatal: could not create leading directories of '/content/stable-diffusion-webui/extensions/asymmetric-tiling-sd-webui': Read-only file system\r\n"
     ]
    },
    {
     "name": "stdout",
     "output_type": "stream",
     "text": [
      "[Errno 2] No such file or directory: '/content/stable-diffusion-webui'\n",
      "/Users/wuyingyi/Documents/Hello World/数字艺术/Jen GitHub/AI-digital-art-works/stable-diffusion\n",
      "HEAD is now at d38d8e8 Resolve the bug: 'execution_count' is a required property.\r\n"
     ]
    },
    {
     "name": "stdout",
     "output_type": "stream",
     "text": [
      "fatal: cannot change to '/content/stable-diffusion-webui/repositories/stable-diffusion-stability-ai': No such file or directory\r\n"
     ]
    },
    {
     "name": "stdout",
     "output_type": "stream",
     "text": [
      "zsh:1: command not found: aria2c\r\n"
     ]
    },
    {
     "name": "stdout",
     "output_type": "stream",
     "text": [
      "sed: 1: \"/from modules import la ...\": extra characters after \\ at the end of a command\r\n"
     ]
    },
    {
     "name": "stdout",
     "output_type": "stream",
     "text": [
      "sed: 1: \"/        prepare_enviro ...\": extra characters after \\ at the end of a command\r\n"
     ]
    },
    {
     "name": "stdout",
     "output_type": "stream",
     "text": [
      "sed: /content/stable-diffusion-webui/modules/shared.py: No such file or directory\r\n"
     ]
    },
    {
     "name": "stdout",
     "output_type": "stream",
     "text": [
      "zsh:1: command not found: python\r\n"
     ]
    }
   ],
   "source": [
    "%cd /content\n",
    "\n",
    "%env TF_CPP_MIN_LOG_LEVEL=1\n",
    "\n",
    "!apt update && apt upgrade -y\n",
    "\n",
    "!apt -y update -qq\n",
    "!wget https://github.com/camenduru/gperftools/releases/download/v1.0/libtcmalloc_minimal.so.4 -O /content/libtcmalloc_minimal.so.4\n",
    "%env LD_PRELOAD=/content/libtcmalloc_minimal.so.4\n",
    "\n",
    "!apt -y install -qq aria2 libcairo2-dev pkg-config python3-dev\n",
    "\n",
    "!pip uninstall -y httpx httpcore\n",
    "!pip install httpx==0.23.0 httpcore==0.15.0\n",
    "!pip install gradio==3.1.4\n",
    "\n",
    "!pip install -q torch==2.0.1+cu118 torchvision==0.15.2+cu118 torchaudio==2.0.2+cu118 torchtext==0.15.2 torchdata==0.6.1 --extra-index-url https://download.pytorch.org/whl/cu118 -U\n",
    "!pip install -q xformers==0.0.20 triton==2.0.0 gradio_client==0.2.7 -U\n",
    "\n",
    "!nvcc --version\n",
    "\n",
    "!pip uninstall -y torch torchvision\n",
    "!pip install torch torchvision torchaudio --index-url https://download.pytorch.org/whl/cu118\n",
    "\n",
    "!git clone -b v2.4 https://github.com/camenduru/stable-diffusion-webui\n",
    "!git clone https://huggingface.co/embed/negative /content/stable-diffusion-webui/embeddings/negative\n",
    "!git clone https://huggingface.co/embed/lora /content/stable-diffusion-webui/models/Lora/positive\n",
    "!aria2c --console-log-level=error -c -x 16 -s 16 -k 1M https://huggingface.co/embed/upscale/resolve/main/4x-UltraSharp.pth -d /content/stable-diffusion-webui/models/ESRGAN -o 4x-UltraSharp.pth\n",
    "!wget https://raw.githubusercontent.com/camenduru/stable-diffusion-webui-scripts/main/run_n_times.py -O /content/stable-diffusion-webui/scripts/run_n_times.py\n",
    "!git clone -b v2.4 https://github.com/camenduru/deforum-for-automatic1111-webui /content/stable-diffusion-webui/extensions/deforum-for-automatic1111-webui\n",
    "!git clone -b v2.4 https://github.com/camenduru/stable-diffusion-webui-images-browser /content/stable-diffusion-webui/extensions/stable-diffusion-webui-images-browser\n",
    "!git clone -b v2.4 https://github.com/camenduru/stable-diffusion-webui-huggingface /content/stable-diffusion-webui/extensions/stable-diffusion-webui-huggingface\n",
    "!git clone -b v2.4 https://github.com/camenduru/sd-civitai-browser /content/stable-diffusion-webui/extensions/sd-civitai-browser\n",
    "!git clone -b v2.4 https://github.com/camenduru/sd-webui-additional-networks /content/stable-diffusion-webui/extensions/sd-webui-additional-networks\n",
    "!git clone -b v2.4 https://github.com/camenduru/sd-webui-tunnels /content/stable-diffusion-webui/extensions/sd-webui-tunnels\n",
    "!git clone -b v2.4 https://github.com/camenduru/batchlinks-webui /content/stable-diffusion-webui/extensions/batchlinks-webui\n",
    "!git clone -b v2.4 https://github.com/camenduru/stable-diffusion-webui-catppuccin /content/stable-diffusion-webui/extensions/stable-diffusion-webui-catppuccin\n",
    "!git clone -b v2.4 https://github.com/camenduru/stable-diffusion-webui-rembg /content/stable-diffusion-webui/extensions/stable-diffusion-webui-rembg\n",
    "!git clone -b v2.4 https://github.com/camenduru/stable-diffusion-webui-two-shot /content/stable-diffusion-webui/extensions/stable-diffusion-webui-two-shot\n",
    "!git clone -b v2.4 https://github.com/camenduru/sd-webui-aspect-ratio-helper /content/stable-diffusion-webui/extensions/sd-webui-aspect-ratio-helper\n",
    "!git clone -b v2.4 https://github.com/camenduru/asymmetric-tiling-sd-webui /content/stable-diffusion-webui/extensions/asymmetric-tiling-sd-webui\n",
    "%cd /content/stable-diffusion-webui\n",
    "!git reset --hard\n",
    "!git -C /content/stable-diffusion-webui/repositories/stable-diffusion-stability-ai reset --hard\n",
    "\n",
    "!aria2c --console-log-level=error -c -x 16 -s 16 -k 1M https://huggingface.co/ckpt/sd14/resolve/main/sd-v1-4.ckpt -d /content/stable-diffusion-webui/models/Stable-diffusion -o sd-v1-4.ckpt\n",
    "\n",
    "!sed -i -e '''/from modules import launch_utils/a\\import os''' /content/stable-diffusion-webui/launch.py\n",
    "!sed -i -e '''/        prepare_environment()/a\\        os.system\\(f\\\"\"\"sed -i -e ''\\\"s/dict()))/dict())).cuda()/g\\\"'' /content/stable-diffusion-webui/repositories/stable-diffusion-stability-ai/ldm/util.py\"\"\")''' /content/stable-diffusion-webui/launch.py\n",
    "!sed -i -e 's/\\[\"sd_model_checkpoint\"\\]/\\[\"sd_model_checkpoint\",\"sd_vae\",\"CLIP_stop_at_last_layers\"\\]/g' /content/stable-diffusion-webui/modules/shared.py\n",
    "\n",
    "!python launch.py --listen --xformers --enable-insecure-extension-access --theme dark --gradio-queue --multiple\n"
   ]
  }
 ],
 "metadata": {
  "kernelspec": {
   "display_name": "Python 3",
   "language": "python",
   "name": "python3"
  },
  "language_info": {
   "codemirror_mode": {
    "name": "ipython",
    "version": 3
   },
   "file_extension": ".py",
   "mimetype": "text/x-python",
   "name": "python",
   "nbconvert_exporter": "python",
   "pygments_lexer": "ipython3",
   "version": "3.9.6"
  }
 },
 "nbformat": 4,
 "nbformat_minor": 5
}
