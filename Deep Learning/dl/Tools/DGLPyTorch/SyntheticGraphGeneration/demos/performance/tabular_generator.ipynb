{
 "cells": [
  {
   "cell_type": "raw",
   "id": "efa59e1a",
   "metadata": {},
   "source": [
    "# Copyright 2023 NVIDIA Corporation. All Rights Reserved.\n",
    "#\n",
    "# Licensed under the Apache License, Version 2.0 (the \"License\");\n",
    "# you may not use this file except in compliance with the License.\n",
    "# You may obtain a copy of the License at\n",
    "#\n",
    "#     http://www.apache.org/licenses/LICENSE-2.0\n",
    "#\n",
    "# Unless required by applicable law or agreed to in writing, software\n",
    "# distributed under the License is distributed on an \"AS IS\" BASIS,\n",
    "# WITHOUT WARRANTIES OR CONDITIONS OF ANY KIND, either express or implied.\n",
    "# See the License for the specific language governing permissions and\n",
    "# limitations under the License.\n",
    "# =============================================================================="
   ]
  },
  {
   "cell_type": "markdown",
   "id": "303a4030",
   "metadata": {},
   "source": [
    "# Tabular data generation performance demo"
   ]
  },
  {
   "cell_type": "markdown",
   "id": "eb20f456",
   "metadata": {},
   "source": [
    "## Overview\n",
    "\n",
    "In this notebbok we compare the performance (throughput) of tabular data generators presented in the SynGen tool. \n",
    "\n",
    "Available generators:\n",
    "\n",
    "1. [KDE (Kernel Density Estimation)](#1)\n",
    "1. [Uniform](#2)\n",
    "1. [Gaussian](#3)\n",
    "1. [Random](#4)"
   ]
  },
  {
   "cell_type": "markdown",
   "id": "94485946",
   "metadata": {},
   "source": [
    "### Imports"
   ]
  },
  {
   "cell_type": "code",
   "execution_count": 1,
   "id": "dbcdb188",
   "metadata": {},
   "outputs": [
    {
     "name": "stderr",
     "output_type": "stream",
     "text": [
      "WARNING:root:The OGB package is out of date. Your version is 1.3.5, while the latest version is 1.3.6.\n"
     ]
    }
   ],
   "source": [
    "# preprocessing\n",
    "from syngen.preprocessing.datasets import IEEEPreprocessing\n",
    "\n",
    "# generators\n",
    "from syngen.generator.tabular import (\n",
    "    KDEGenerator,\n",
    "    UniformGenerator, \n",
    "    GaussianGenerator,  \n",
    "    RandomMVGenerator,\n",
    ")\n",
    "\n",
    "# Others\n",
    "import time\n",
    "import pandas as pd\n",
    "from collections import defaultdict\n",
    "from syngen.utils.types import MetaData"
   ]
  },
  {
   "cell_type": "markdown",
   "id": "79ae9fca",
   "metadata": {},
   "source": [
    "### Helper function"
   ]
  },
  {
   "cell_type": "code",
   "execution_count": 2,
   "id": "f58103a7",
   "metadata": {},
   "outputs": [],
   "source": [
    "def measure_throughput(generator, n=10, samples = 100000, gpu=False):\n",
    "    times = []\n",
    "    for _ in range(n):\n",
    "        start = time.perf_counter()\n",
    "        generator.sample(samples, gpu=gpu)\n",
    "        elapsed = time.perf_counter() - start\n",
    "        times.append(elapsed)\n",
    "    return int((samples * n) / sum(times))"
   ]
  },
  {
   "cell_type": "markdown",
   "id": "0b6d13f8",
   "metadata": {},
   "source": [
    "### Load tabular features"
   ]
  },
  {
   "cell_type": "code",
   "execution_count": 3,
   "id": "40202e32",
   "metadata": {},
   "outputs": [],
   "source": [
    "data_path = '/workspace/data/ieee-fraud'\n",
    "preprocessed_path = '/workspace/data/ieee_preprocessed'"
   ]
  },
  {
   "cell_type": "code",
   "execution_count": 4,
   "id": "260b9fe9",
   "metadata": {},
   "outputs": [],
   "source": [
    "preprocessing = IEEEPreprocessing(source_path=data_path, destination_path=preprocessed_path)"
   ]
  },
  {
   "cell_type": "code",
   "execution_count": 5,
   "id": "2481c224",
   "metadata": {},
   "outputs": [],
   "source": [
    "feature_spec_original = preprocessing.transform(use_cache=True)"
   ]
  },
  {
   "cell_type": "code",
   "execution_count": 6,
   "id": "e2db8da3",
   "metadata": {},
   "outputs": [],
   "source": [
    "original_tabular_data, categorical_features = feature_spec_original.get_tabular_data(MetaData.EDGES, 'user-product', return_cat_feats=True)"
   ]
  },
  {
   "cell_type": "code",
   "execution_count": 7,
   "id": "f668be54",
   "metadata": {},
   "outputs": [],
   "source": [
    "results_dict = defaultdict(dict)"
   ]
  },
  {
   "cell_type": "markdown",
   "id": "7b5a559e",
   "metadata": {},
   "source": [
    "<a id=\"1\"></a>\n",
    "## KDE (Kernel Density Estimation) Generator\n"
   ]
  },
  {
   "cell_type": "code",
   "execution_count": 8,
   "id": "81bd5eff",
   "metadata": {},
   "outputs": [
    {
     "name": "stdout",
     "output_type": "stream",
     "text": [
      "avg throughput: 371296, 592132\n"
     ]
    }
   ],
   "source": [
    "kde_generator = KDEGenerator()\n",
    "kde_generator.fit(original_tabular_data, categorical_columns=categorical_features)\n",
    "\n",
    "results_dict['kde-cpu'] =  measure_throughput(kde_generator, gpu=False)\n",
    "results_dict['kde-gpu'] =  measure_throughput(kde_generator, gpu=True)\n",
    "print(f\"avg throughput: {results_dict['kde-cpu']}, {results_dict['kde-gpu']}\")"
   ]
  },
  {
   "cell_type": "markdown",
   "id": "5b7f1597",
   "metadata": {},
   "source": [
    "<a id=\"2\"></a>\n",
    "## Uniform Generator"
   ]
  },
  {
   "cell_type": "code",
   "execution_count": 9,
   "id": "857ab154",
   "metadata": {},
   "outputs": [
    {
     "name": "stdout",
     "output_type": "stream",
     "text": [
      "avg throughput: 897421, 3621726\n"
     ]
    }
   ],
   "source": [
    "uniform_generator = UniformGenerator()\n",
    "uniform_generator.fit(original_tabular_data, categorical_columns=categorical_features)\n",
    " \n",
    "results_dict['uniform-cpu'] =  measure_throughput(uniform_generator, gpu=False)\n",
    "results_dict['uniform-gpu'] =  measure_throughput(uniform_generator, gpu=True)\n",
    "print(f\"avg throughput: {results_dict['uniform-cpu']}, {results_dict['uniform-gpu']}\")"
   ]
  },
  {
   "cell_type": "markdown",
   "id": "ae51cc19",
   "metadata": {},
   "source": [
    "<a id=\"3\"></a>\n",
    "## Gaussian Generator"
   ]
  },
  {
   "cell_type": "code",
   "execution_count": 10,
   "id": "47f763a4",
   "metadata": {},
   "outputs": [
    {
     "name": "stdout",
     "output_type": "stream",
     "text": [
      "avg throughput: 530683, 983408\n"
     ]
    }
   ],
   "source": [
    "gaussian_generator = GaussianGenerator()\n",
    "gaussian_generator.fit(original_tabular_data, categorical_columns=categorical_features)\n",
    " \n",
    "results_dict['gaussian-cpu'] =  measure_throughput(gaussian_generator, gpu=False)\n",
    "results_dict['gaussian-gpu'] =  measure_throughput(gaussian_generator, gpu=True)\n",
    "print(f\"avg throughput: {results_dict['gaussian-cpu']}, {results_dict['gaussian-gpu']}\")"
   ]
  },
  {
   "cell_type": "markdown",
   "id": "f0f879ec",
   "metadata": {},
   "source": [
    "<a id=\"4\"></a>\n",
    "## Random Generator"
   ]
  },
  {
   "cell_type": "code",
   "execution_count": 11,
   "id": "34d45583",
   "metadata": {},
   "outputs": [
    {
     "name": "stdout",
     "output_type": "stream",
     "text": [
      "avg throughput: 440086, 6438646\n"
     ]
    }
   ],
   "source": [
    "random_generator = RandomMVGenerator()\n",
    "random_generator.fit(original_tabular_data, categorical_columns=categorical_features)\n",
    " \n",
    "results_dict['random-cpu'] =  measure_throughput(random_generator, gpu=False)\n",
    "results_dict['random-gpu'] =  measure_throughput(random_generator, gpu=True)\n",
    "print(f\"avg throughput: {results_dict['random-cpu']}, {results_dict['random-gpu']}\")"
   ]
  },
  {
   "cell_type": "markdown",
   "id": "3a70c2e6",
   "metadata": {},
   "source": [
    "## Results"
   ]
  },
  {
   "cell_type": "code",
   "execution_count": 12,
   "id": "e02de4d1",
   "metadata": {},
   "outputs": [
    {
     "data": {
      "text/html": [
       "<div>\n",
       "<style scoped>\n",
       "    .dataframe tbody tr th:only-of-type {\n",
       "        vertical-align: middle;\n",
       "    }\n",
       "\n",
       "    .dataframe tbody tr th {\n",
       "        vertical-align: top;\n",
       "    }\n",
       "\n",
       "    .dataframe thead th {\n",
       "        text-align: right;\n",
       "    }\n",
       "</style>\n",
       "<table border=\"1\" class=\"dataframe\">\n",
       "  <thead>\n",
       "    <tr style=\"text-align: right;\">\n",
       "      <th></th>\n",
       "      <th>kde-cpu</th>\n",
       "      <th>kde-gpu</th>\n",
       "      <th>uniform-cpu</th>\n",
       "      <th>uniform-gpu</th>\n",
       "      <th>gaussian-cpu</th>\n",
       "      <th>gaussian-gpu</th>\n",
       "      <th>random-cpu</th>\n",
       "      <th>random-gpu</th>\n",
       "    </tr>\n",
       "  </thead>\n",
       "  <tbody>\n",
       "    <tr>\n",
       "      <th>ieee</th>\n",
       "      <td>371296</td>\n",
       "      <td>592132</td>\n",
       "      <td>897421</td>\n",
       "      <td>3621726</td>\n",
       "      <td>530683</td>\n",
       "      <td>983408</td>\n",
       "      <td>440086</td>\n",
       "      <td>6438646</td>\n",
       "    </tr>\n",
       "  </tbody>\n",
       "</table>\n",
       "</div>"
      ],
      "text/plain": [
       "      kde-cpu  kde-gpu  uniform-cpu  uniform-gpu  gaussian-cpu  gaussian-gpu  \\\n",
       "ieee   371296   592132       897421      3621726        530683        983408   \n",
       "\n",
       "      random-cpu  random-gpu  \n",
       "ieee      440086     6438646  "
      ]
     },
     "execution_count": 12,
     "metadata": {},
     "output_type": "execute_result"
    }
   ],
   "source": [
    "pd.DataFrame(results_dict, index=['ieee'])"
   ]
  },
  {
   "cell_type": "code",
   "execution_count": null,
   "id": "f30700e1",
   "metadata": {},
   "outputs": [],
   "source": []
  }
 ],
 "metadata": {
  "kernelspec": {
   "display_name": "Python 3 (ipykernel)",
   "language": "python",
   "name": "python3"
  },
  "language_info": {
   "codemirror_mode": {
    "name": "ipython",
    "version": 3
   },
   "file_extension": ".py",
   "mimetype": "text/x-python",
   "name": "python",
   "nbconvert_exporter": "python",
   "pygments_lexer": "ipython3",
   "version": "3.8.10"
  }
 },
 "nbformat": 4,
 "nbformat_minor": 5
}
